{
  "nbformat": 4,
  "nbformat_minor": 0,
  "metadata": {
    "colab": {
      "name": "EP_Record.ipynb",
      "provenance": []
    },
    "kernelspec": {
      "name": "python3",
      "display_name": "Python 3"
    },
    "language_info": {
      "name": "python"
    }
  },
  "cells": [
    {
      "cell_type": "markdown",
      "metadata": {
        "id": "7vR1isJEkv_R"
      },
      "source": [
        "**EXERCISE 1**"
      ]
    },
    {
      "cell_type": "markdown",
      "metadata": {
        "id": "8q4vgzzrkeFr"
      },
      "source": [
        "Installation and Environment setup of python -\n",
        "Step 1: Select Version of Python to Install.\n",
        "\n",
        "Step 2: Download Python Executable Installer.\n",
        "\n",
        "Step 3: Run Executable Installer.\n",
        "\n",
        "Step 4: Verify Python Was Installed On Windows.\n",
        "\n",
        "Step 5: Verify Pip Was Installed.\n",
        "\n",
        "Step 6: Add Python Path to Environment Variables."
      ]
    },
    {
      "cell_type": "markdown",
      "metadata": {
        "id": "sABepeLnk2oH"
      },
      "source": [
        "a. Write a program to demonstrate the use of basic Data Types"
      ]
    },
    {
      "cell_type": "code",
      "metadata": {
        "colab": {
          "base_uri": "https://localhost:8080/"
        },
        "id": "KsilXfPFqlyQ",
        "outputId": "32e7aeb2-9387-4799-82fc-52769b3dfadc"
      },
      "source": [
        "x = int (input('Enter a number : '))\n",
        "print('The number is : ',x,'and it is a of type : ',type(x))\n",
        "y = float (input('Enter a float number :'))\n",
        "print('The number is : ',y,'and it is a of type : ',type(y))\n",
        "z = 21-9j\n",
        "print('The number is : ',z,'and it is a of type : ',type(z))"
      ],
      "execution_count": null,
      "outputs": [
        {
          "output_type": "stream",
          "text": [
            "Enter a number : 4\n",
            "The number is :  4 and it is a of type :  <class 'int'>\n",
            "Enter a float number :67\n",
            "The number is :  67.0 and it is a of type :  <class 'float'>\n",
            "The number is :  (21-9j) and it is a of type :  <class 'complex'>\n"
          ],
          "name": "stdout"
        }
      ]
    },
    {
      "cell_type": "markdown",
      "metadata": {
        "id": "2NyBHbvSk9tZ"
      },
      "source": [
        "b. Write a program to demonstrate the Operators and Expressions"
      ]
    },
    {
      "cell_type": "code",
      "metadata": {
        "colab": {
          "base_uri": "https://localhost:8080/"
        },
        "id": "ZaLTvgZtztMA",
        "outputId": "2f34351b-ba8a-4bf2-aa8e-28fcc99d6907"
      },
      "source": [
        "a = int (input('Enter a number :'))\n",
        "b = int (input('Enter a number :'))\n",
        "addn = a + b\n",
        "print('The sum of the entered numbers {} and {} is {}'.format(a,b,addn))\n",
        "c = int (input('Enter a number :'))\n",
        "d = int (input('Enter a number :'))\n",
        "subn = c - d\n",
        "print('The subtraction of the entered numbers {} and {} is {}'.format(c,d,subn))\n",
        "e = int (input('Enter a number :'))\n",
        "f = int (input('Enter a number :'))\n",
        "Multiplication = e * f\n",
        "print('The product of the entered numbers {} and {} is {}'.format(e,f,Multiplication))\n",
        "g = int (input('Enter a number :'))\n",
        "h = int (input('Enter a number :'))\n",
        "division = g/h\n",
        "print('The division of the entered numbers {} and {} is {}'.format(e,f,division))\n",
        "i = int (input('Enter a number :'))\n",
        "j = int (input('Enter a number :'))\n",
        "expn = i ** j\n",
        "print('The exponential of the entered numbers {} and {} is {}'.format(i,j,expn))\n",
        "k =  int (input('Enter a number :'))\n",
        "l =  int (input('Enter a number :'))\n",
        "Mod = k % l \n",
        "print('The modulus of the entered numbers {} and {} is {}'.format(k,l,Mod))\n",
        "m =  int (input('Enter a number :'))\n",
        "n =  int (input('Enter a number :'))\n",
        "floor = m // n\n",
        "print('The floor value of the entered numbers {} and {} is {}'.format(m,n,floor))\n",
        "x = 21\n",
        "y = 14\n",
        "str1 = 'x**2 + x ** y + x*y - (x/y)'\n",
        "a = x**2 + x ** y + x*y - (x/y)\n",
        "print('The value of the expression {} is {}'.format(str1,a))"
      ],
      "execution_count": null,
      "outputs": [
        {
          "output_type": "stream",
          "text": [
            "Enter a number :34\n",
            "Enter a number :55\n",
            "The sum of the entered numbers 34 and 55 is 89\n",
            "Enter a number :18\n",
            "Enter a number :20\n",
            "The subtraction of the entered numbers 18 and 20 is -2\n",
            "Enter a number :478\n",
            "Enter a number :280\n",
            "The product of the entered numbers 478 and 280 is 133840\n",
            "Enter a number :379\n",
            "Enter a number :46\n",
            "The division of the entered numbers 478 and 280 is 8.23913043478261\n",
            "Enter a number :53\n",
            "Enter a number :779\n",
            "The exponential of the entered numbers 53 and 779 is 162518355463259522810846268928871129941299139957703972577080316740634850856661462114287624470159834010838828203612485465559696047702159777774621107546289474649624367658872710684450020504414782429784418133323578407917568859891275482160991486163045017719159818911544257823015349580577710191324375373929676112805331660942405674619936671304233193446024660455455560157847778434366516318616190894782651142486149262760269038494932616570821927527209662195107017698225092158679939750337996681310024645568316556283879338563489944139456087648663347847133691173592985662420960009741666706621126610724381885958750723993113963499753301404826925512295613052244545825361051529576005222844678867611376526446795773072740914286616815162513018695219803951863452953914073467992532765790201005420179185258936225720327555090704207860412468936620371482522609604056574321542422144042768763754889906747006872354473319936923062261466461587429286927205552942124062563126166670807012417965595633464961625042396420515260646588188762994413943945696332891073523836107924016322506218486598244231371399261643804627270938320163804576135577066953760062859247858177392356105243594810216022502471728865904506250888763661702153741925245046795735197506674273727686102412445208095841830399676643556578705042935721067447453148880695701393836914844085490203208249075748792498309244247917\n",
            "Enter a number :64\n",
            "Enter a number :94\n",
            "The modulus of the entered numbers 64 and 94 is 64\n",
            "Enter a number :150\n",
            "Enter a number :283\n",
            "The floor value of the entered numbers 150 and 283 is 0\n",
            "The value of the expression x**2 + x ** y + x*y - (x/y) is 3.2439199325215094e+18\n"
          ],
          "name": "stdout"
        }
      ]
    },
    {
      "cell_type": "markdown",
      "metadata": {
        "id": "I1itxmRnlIG3"
      },
      "source": [
        "d.Write a program to demonstrate the Functions and parameter passing Techniques."
      ]
    },
    {
      "cell_type": "code",
      "metadata": {
        "colab": {
          "base_uri": "https://localhost:8080/"
        },
        "id": "6pBAk2ralV6k",
        "outputId": "639f4a16-1722-442f-b1be-f85c9dc8a230"
      },
      "source": [
        "#1. Without parameters and without return type\n",
        "def sum():\n",
        "  a=int(input())\n",
        "  b=int(input())\n",
        "  c=a+b\n",
        "  print(c)\n",
        "sum()\n",
        "#2. Without paramters and with return type\n",
        "def sum():\n",
        "  a=int(input())\n",
        "  b=int(input())\n",
        "  c=a+b\n",
        "  return c\n",
        "print(sum())\n",
        "#3. With paramters and with return type\n",
        "a=int(input())\n",
        "b=int(input())\n",
        "def sum(a,b):\n",
        "  c=a+b\n",
        "  return c\n",
        "print(sum(a,b))\n",
        "#4. With paramters and without return type\n",
        "a=int(input())\n",
        "b=int(input())\n",
        "def sum(a,b):\n",
        "  c=a+b\n",
        "  print(c)\n",
        "sum(a,b)"
      ],
      "execution_count": null,
      "outputs": [
        {
          "output_type": "stream",
          "text": [
            "45\n",
            "35\n",
            "80\n",
            "57\n",
            "34\n",
            "91\n",
            "68\n",
            "79\n",
            "147\n",
            "45\n",
            "3\n",
            "48\n"
          ],
          "name": "stdout"
        }
      ]
    },
    {
      "cell_type": "code",
      "metadata": {
        "colab": {
          "base_uri": "https://localhost:8080/"
        },
        "id": "fqvnl8zk2t2_",
        "outputId": "32a12b50-cc4e-4978-ba25-9ea99fee5c70"
      },
      "source": [
        "def my_function (a,b):\n",
        "  a = int (input('Enter a number :'))\n",
        "  b = int (input('Enter a number :'))\n",
        "  print(a+b)\n",
        "\n",
        "my_function(_,_)"
      ],
      "execution_count": null,
      "outputs": [
        {
          "output_type": "stream",
          "text": [
            "Enter a number :5\n",
            "Enter a number :9\n",
            "14\n"
          ],
          "name": "stdout"
        }
      ]
    },
    {
      "cell_type": "markdown",
      "metadata": {
        "id": "Wqoag8QjlkYm"
      },
      "source": [
        "**EXERCISE 2**"
      ]
    },
    {
      "cell_type": "markdown",
      "metadata": {
        "id": "rC3NYsCb5bNR"
      },
      "source": [
        "Write a Program to implement\n",
        "\n",
        "i. Packages\n",
        "\n",
        "ii. Modules\n",
        "\n",
        "iii. Built-in Functions"
      ]
    },
    {
      "cell_type": "code",
      "metadata": {
        "colab": {
          "base_uri": "https://localhost:8080/"
        },
        "id": "M_62UREHlpcd",
        "outputId": "1e89ad2d-8597-4c8c-c6a1-0a28ebad1f98"
      },
      "source": [
        "print(\"Absolute Value:\")\n",
        "a=int(input(\"Enter a value:\"))\n",
        "print(abs(a))\n",
        "print(\"\\nBinary Value:\")\n",
        "b=int(input(\"Enter a value: \"))\n",
        "print(bin(b))\n",
        "print(\"\\nQuotient and remainder of 45 and 9 are:\")\n",
        "print(divmod(45,9))\n",
        "print(\"\\nFloat Value\")\n",
        "c=input(\"Enter a value: \")\n",
        "print(float(c))\n",
        "print(\"\\nInt Value\")\n",
        "d=input(\"Enter a value: \")\n",
        "print(int(d))\n",
        "print(\"\\nMaximum Value of 10,78,5\")\n",
        "print(max(10,78,5))\n",
        "print(\"\\nPower function\")\n",
        "e=int(input(\"Enter a value: \"))\n",
        "f=int(input(\"Enter a value: \"))\n",
        "print(\"The power of the given values is: \",pow(e,f))\n",
        "print(\"\\nSquarer Root\")\n",
        "import math\n",
        "g=int(input(\"Enter a value: \"))\n",
        "print(\"The Square Root of the given number is : \",math.sqrt(g))"
      ],
      "execution_count": null,
      "outputs": [
        {
          "output_type": "stream",
          "text": [
            "Absolute Value:\n",
            "Enter a value:4\n",
            "4\n",
            "\n",
            "Binary Value:\n",
            "Enter a value: 46\n",
            "0b101110\n",
            "\n",
            "Quotient and remainder of 45 and 9 are:\n",
            "(5, 0)\n",
            "\n",
            "Float Value\n",
            "Enter a value: 45.99\n",
            "45.99\n",
            "\n",
            "Int Value\n",
            "Enter a value: 34\n",
            "34\n",
            "\n",
            "Maximum Value of 10,78,5\n",
            "78\n",
            "\n",
            "Power function\n",
            "Enter a value: 3\n",
            "Enter a value: 690\n",
            "The power of the given values is:  163555727287367407471971447975798547602350499361155025484568071522671336240886101592389156830477744456246969249992474801417497912495931862759282642129884811638815125340780732645757641809517867555834637732086167908225522183159558612081640873019281295749175016250744749470067964606923267012430251512932993543632783497783795156309449\n",
            "\n",
            "Squarer Root\n",
            "Enter a value: 356\n",
            "The Square Root of the given number is :  18.867962264113206\n"
          ],
          "name": "stdout"
        }
      ]
    },
    {
      "cell_type": "markdown",
      "metadata": {
        "id": "nNp1Ix0KPq3W"
      },
      "source": [
        "Write a Program to implement\n",
        "\n",
        "i.List  ii.Tuple  iii.Dictionaries"
      ]
    },
    {
      "cell_type": "code",
      "metadata": {
        "colab": {
          "base_uri": "https://localhost:8080/"
        },
        "id": "2McNgY978Eew",
        "outputId": "a9ea2cb8-163c-4936-f9f8-a8f55ce0bf1d"
      },
      "source": [
        "test_list =['Hi',355,548,87,'AI','world',]\n",
        "print(test_list)\n",
        "test_tuples = ('Hello',39,20)\n",
        "print(test_tuples)\n",
        "test_dict = {'dict1': 3+27,'dict2': 28+8 ,'dict4' :3+99}\n",
        "print(test_dict)"
      ],
      "execution_count": null,
      "outputs": [
        {
          "output_type": "stream",
          "text": [
            "['Hi', 355, 548, 87, 'AI', 'world']\n",
            "('Hello', 39, 20)\n",
            "{'dict1': 30, 'dict2': 36, 'dict4': 102}\n"
          ],
          "name": "stdout"
        }
      ]
    },
    {
      "cell_type": "markdown",
      "metadata": {
        "id": "FXzLKVV8S8Hp"
      },
      "source": [
        "c. Programs on Stings, String Operations and Regular Expressions"
      ]
    },
    {
      "cell_type": "code",
      "metadata": {
        "colab": {
          "base_uri": "https://localhost:8080/"
        },
        "id": "zLClYtArPjMn",
        "outputId": "8922c0df-efbe-4d64-a873-f0e9f8e56a2e"
      },
      "source": [
        "# String \n",
        "str1 = 'Hello, '\n",
        "str2 = 'this is Naahida.'\n",
        "print(str1+str2)\n",
        "# String operations\n",
        "s = \"Hey there! what should this string be?\"\n",
        "print(\"Length of s = %d\" % len(s))\n",
        "print(\"The first occurrence of the letter a = %d\" % s.index(\"a\"))\n",
        "print(\"a occurs %d times\" % s.count(\"a\"))\n",
        "print(\"The first five characters are '%s'\" % s[:5]) \n",
        "print(\"The next five characters are '%s'\" % s[5:10]) \n",
        "print(\"The thirteenth character is '%s'\" % s[12]) \n",
        "print(\"The characters with odd index are '%s'\" %s[1::2])\n",
        "print(\"The last five characters are '%s'\" % s[-5:]) \n",
        "\n",
        "print(\"String in uppercase: %s\" % s.upper())\n",
        "\n",
        "print(\"String in lowercase: %s\" % s.lower())\n",
        "\n",
        "\n",
        "if s.startswith(\"Str\"):\n",
        "    print(\"String starts with 'Str'. Good!\")\n",
        "\n",
        "\n",
        "if s.endswith(\"ome!\"):\n",
        "    print(\"String ends with 'ome!'. Good!\")\n",
        "\n",
        "print(\"Split the words of the string: %s\" % s.split(\" \"))\n",
        "#regular Expression\n",
        "import re\n",
        "p = re.compile('[a-e]')\n",
        "print(p.findall(\"Aye, said Mr. Gibenson Stark\"))\n"
      ],
      "execution_count": null,
      "outputs": [
        {
          "output_type": "stream",
          "text": [
            "Hello, this is Naahida.\n",
            "Length of s = 38\n",
            "The first occurrence of the letter a = 13\n",
            "a occurs 1 times\n",
            "The first five characters are 'Hey t'\n",
            "The next five characters are 'here!'\n",
            "The thirteenth character is 'h'\n",
            "The characters with odd index are 'e hr!wa hudti tigb?'\n",
            "The last five characters are 'g be?'\n",
            "String in uppercase: HEY THERE! WHAT SHOULD THIS STRING BE?\n",
            "String in lowercase: hey there! what should this string be?\n",
            "Split the words of the string: ['Hey', 'there!', 'what', 'should', 'this', 'string', 'be?']\n",
            "['e', 'a', 'd', 'b', 'e', 'a']\n"
          ],
          "name": "stdout"
        }
      ]
    },
    {
      "cell_type": "markdown",
      "metadata": {
        "id": "XVaksj55TGwa"
      },
      "source": [
        " **EXERCISE 3**"
      ]
    },
    {
      "cell_type": "markdown",
      "metadata": {
        "id": "emMTlDLIj97R"
      },
      "source": [
        "a. Write a program to implement Class and Object"
      ]
    },
    {
      "cell_type": "code",
      "metadata": {
        "colab": {
          "base_uri": "https://localhost:8080/"
        },
        "id": "OMbiijYuS2jE",
        "outputId": "42b66e6d-9943-4990-c048-081d5c886d37"
      },
      "source": [
        "#CLASS\n",
        "class employee:\n",
        "  \"This is a employee class\"\n",
        "  salary=250000\n",
        "\n",
        "  def greet(self):\n",
        "    return \"HELLO WORLD\"\n",
        "#OBJECT\n",
        "p1=employee\n",
        "print(p1.salary)\n",
        "print(p1.greet('Hello'))"
      ],
      "execution_count": null,
      "outputs": [
        {
          "output_type": "stream",
          "text": [
            "250000\n",
            "HELLO WORLD\n"
          ],
          "name": "stdout"
        }
      ]
    },
    {
      "cell_type": "markdown",
      "metadata": {
        "id": "imxiMFYIUcGV"
      },
      "source": [
        "b. Write a Program to implement Static and Instance methods, Abstract Classes and Interfaces."
      ]
    },
    {
      "cell_type": "code",
      "metadata": {
        "colab": {
          "base_uri": "https://localhost:8080/"
        },
        "id": "8IctXueMUTU0",
        "outputId": "65343580-23f4-4969-aa9c-3ee7c6df8097"
      },
      "source": [
        "#static method\n",
        "class Mathematics:\n",
        "\n",
        "    def addNumbers(x, y):\n",
        "        return x + y\n",
        "\n",
        "# create addNumbers static method\n",
        "Mathematics.addNumbers = staticmethod(Mathematics.addNumbers)\n",
        "\n",
        "print('The sum is:', Mathematics.addNumbers(17890, 103678916))"
      ],
      "execution_count": null,
      "outputs": [
        {
          "output_type": "stream",
          "text": [
            "The sum is: 103696806\n"
          ],
          "name": "stdout"
        }
      ]
    },
    {
      "cell_type": "code",
      "metadata": {
        "colab": {
          "base_uri": "https://localhost:8080/"
        },
        "id": "mwxGXE74Uaog",
        "outputId": "f51ef49c-f5ae-4cf7-ba46-a18bcbff266e"
      },
      "source": [
        "class shape:\n",
        "\t\n",
        "\t# Calling Constructor\n",
        "\tdef __init__(self, edge, color):\n",
        "\t\tself.edge = edge\n",
        "\t\tself.color = color\n",
        "\t\t\n",
        "\t# Instance Method\n",
        "\tdef finEdges(self):\n",
        "\t\treturn self.edge\n",
        "\t\t\n",
        "\t# Instance Method\n",
        "\tdef modifyEdges(self, newedge):\n",
        "\t\tself.edge = newedge\n",
        "\t\t\n",
        "# Driver Code\n",
        "circle = shape(0, 'red')\n",
        "square = shape(4, 'blue')\n",
        "\n",
        "# Calling Instance Method\n",
        "print(\"No. of edges for circle: \"+ str(circle.finEdges()))\n",
        "\n",
        "# Calling Instance Method\n",
        "square.modifyEdges(6)\n",
        "\n",
        "print(\"No. of edges for square: \"+ str(square.finEdges()))\n"
      ],
      "execution_count": null,
      "outputs": [
        {
          "output_type": "stream",
          "text": [
            "No. of edges for circle: 0\n",
            "No. of edges for square: 6\n"
          ],
          "name": "stdout"
        }
      ]
    },
    {
      "cell_type": "code",
      "metadata": {
        "colab": {
          "base_uri": "https://localhost:8080/"
        },
        "id": "_xLHU0yQUyi3",
        "outputId": "3bd7ec52-9d8f-4b2d-9d73-bc842beb0232"
      },
      "source": [
        "from abc import ABC, abstractmethod\n",
        "\n",
        "class Polygon(ABC):\n",
        "\n",
        "\t@abstractmethod\n",
        "\tdef noofsides(self):\n",
        "\t\tpass\n",
        "\n",
        "class Triangle(Polygon):\n",
        "\n",
        "\t# overriding abstract method\n",
        "\tdef noofsides(self):\n",
        "\t\tprint(\"Triangle of 3 sides\")\n",
        "\n",
        "class Pentagon(Polygon):\n",
        "\n",
        "\t# overriding abstract method\n",
        "\tdef noofsides(self):\n",
        "\t\tprint(\"Pentagon of 5 sides\")\n",
        "\n",
        "class Hexagon(Polygon):\n",
        "\n",
        "\t# overriding abstract method\n",
        "\tdef noofsides(self):\n",
        "\t\tprint(\"Hexagon of 6 sides\")\n",
        "\n",
        "class square(Polygon):\n",
        "\n",
        "\t# overriding abstract method\n",
        "\tdef noofsides(self):\n",
        "\t\tprint(\"Square of 4 sides\")\n",
        "\n",
        "# Driver code\n",
        "R = Triangle()\n",
        "R.noofsides()\n",
        "\n",
        "K = square()\n",
        "K.noofsides()\n",
        "\n",
        "R = Pentagon()\n",
        "R.noofsides()\n",
        "\n",
        "K = Hexagon()\n",
        "K.noofsides()\n"
      ],
      "execution_count": null,
      "outputs": [
        {
          "output_type": "stream",
          "text": [
            "Triangle of 3 sides\n",
            "Square of 4 sides\n",
            "Pentagon of 5 sides\n",
            "Hexagon of 6 sides\n"
          ],
          "name": "stdout"
        }
      ]
    },
    {
      "cell_type": "markdown",
      "metadata": {
        "id": "RMQ7amfmXruw"
      },
      "source": [
        "c. Write a program to compute distance between two points taking input from the user (Pythagorean Theorem)"
      ]
    },
    {
      "cell_type": "code",
      "metadata": {
        "colab": {
          "base_uri": "https://localhost:8080/"
        },
        "id": "E3zUQFKMXKwC",
        "outputId": "0e4a1b99-c9f7-4fe1-9ddc-e3ef76bb989b"
      },
      "source": [
        "import math\n",
        "\n",
        "input1 = int (input('Enter a first number :'))\n",
        "input2 = int (input('Enter a second number :'))\n",
        "distance = input1**2 + input2**2\n",
        "print(distance)\n",
        "math.sqrt(distance)"
      ],
      "execution_count": null,
      "outputs": [
        {
          "output_type": "stream",
          "text": [
            "Enter a first number :26\n",
            "Enter a second number :390\n",
            "152776\n"
          ],
          "name": "stdout"
        },
        {
          "output_type": "execute_result",
          "data": {
            "text/plain": [
              "390.8657058376956"
            ]
          },
          "metadata": {
            "tags": []
          },
          "execution_count": 39
        }
      ]
    },
    {
      "cell_type": "markdown",
      "metadata": {
        "id": "mgW9vp3bYeNu"
      },
      "source": [
        "**EXERCISE 4**"
      ]
    },
    {
      "cell_type": "markdown",
      "metadata": {
        "id": "A9-h5gg4YmUo"
      },
      "source": [
        "a. Write a program to implement Inheritance and Polymorphism"
      ]
    },
    {
      "cell_type": "code",
      "metadata": {
        "colab": {
          "base_uri": "https://localhost:8080/"
        },
        "id": "cf4ph4lfX2Pf",
        "outputId": "7e846960-ac7d-4b6c-e9c3-b8f227c6a88d"
      },
      "source": [
        "#Inheritance \n",
        "class Person(object):\n",
        "    def __init__(self, name):\n",
        "        self.name = name\n",
        "\n",
        "    def get_name_of_the_person(self):\n",
        "        return self.name\n",
        "\n",
        "    def is_Employee(self):\n",
        "        return False\n",
        "   \n",
        "# Subclass.\n",
        "class Employee(Person):\n",
        "   \n",
        "    # Here we return true\n",
        "    def is_Employee(self):\n",
        "        return True\n",
        "   \n",
        "# Driver code\n",
        "emp = Person(\"John\")\n",
        "print(emp.get_name_of_the_person(), emp.is_Employee())\n",
        "   \n",
        "emp = Employee(\"Ceo\") # An Object of Employee\n",
        "print(emp.get_name_of_the_person(), emp.is_Employee())"
      ],
      "execution_count": null,
      "outputs": [
        {
          "output_type": "stream",
          "text": [
            "John False\n",
            "Ceo True\n"
          ],
          "name": "stdout"
        }
      ]
    },
    {
      "cell_type": "code",
      "metadata": {
        "colab": {
          "base_uri": "https://localhost:8080/"
        },
        "id": "yejlT1QNX2Ki",
        "outputId": "b625cf25-edde-4bc3-e738-caede1d4d587"
      },
      "source": [
        "#polymorphism\n",
        "class Student():\n",
        "    def name(self):\n",
        "        print(\"Name of the student is Riya.\")\n",
        "  \n",
        "    def language(self):\n",
        "        print(\"She speaks Gujarathi and Hindi.\")\n",
        "  \n",
        "    def type(self):\n",
        "        print(\"She is one of the good students in his class.\")\n",
        "\n",
        "class Faculty():\n",
        "    def name(self):\n",
        "        print()\n",
        "        print(\"Name of the faculty is Ram.\")\n",
        "  \n",
        "    def language(self):\n",
        "        print(\"He speaks Telugu. \")\n",
        "  \n",
        "    def type(self):\n",
        "        print(\"He is one of the best faculty in his department.\")\n",
        "  \n",
        "obj_student = Student()\n",
        "obj_faculty = Faculty()\n",
        "for elements in (obj_student, obj_faculty):\n",
        "    elements.name()\n",
        "    elements.language()\n",
        "    elements.type()"
      ],
      "execution_count": null,
      "outputs": [
        {
          "output_type": "stream",
          "text": [
            "Name of the student is Riya.\n",
            "She speaks Gujarathi and Hindi.\n",
            "She is one of the good students in his class.\n",
            "\n",
            "Name of the faculty is Ram.\n",
            "He speaks Telugu. \n",
            "He is one of the best faculty in his department.\n"
          ],
          "name": "stdout"
        }
      ]
    },
    {
      "cell_type": "markdown",
      "metadata": {
        "id": "PTPNfbJVbMSB"
      },
      "source": [
        "b. Write a program to implement Files"
      ]
    },
    {
      "cell_type": "code",
      "metadata": {
        "colab": {
          "base_uri": "https://localhost:8080/"
        },
        "id": "H6vZ5KHQbE4d",
        "outputId": "1aa8135a-64f7-4bf3-f321-3b3af9b80293"
      },
      "source": [
        "# Writing a file.\n",
        "file_object = open('1st_file.txt',\"w+\")\n",
        "for i in range(4):\n",
        "  file_object.write(\"Be Positive.\\n\")\n",
        "file_object.close()\n",
        "\n",
        "# Reading the file.\n",
        "file_object = open ('1st_file.txt',\"r\")\n",
        "if file_object.mode == 'r':\n",
        "  words = file_object.read()\n",
        "print(words)\n",
        "\n",
        "# Appending a file\n",
        "\n",
        "file_object = open('1st_file.txt',\"a+\")\n",
        "for i in range(0,4,2):\n",
        "     file_object.write(\"Naahida\\n\")\n",
        "file_object.close()\n",
        "# Reading after appending.\n",
        "file_object = open('1st_file.txt',\"r\")\n",
        "\n",
        "if file_object.mode == \"r\":\n",
        "  contents = file_object.read()\n",
        "print(contents)# Appending a file\n",
        "\n",
        "file_object = open('1st_file.txt',\"a+\")\n",
        "for i in range(0,4,2):\n",
        "     file_object.write(\"Naahida\\n\")\n",
        "file_object.close()\n",
        "# Reading after appending.\n",
        "file_object = open('1st_file.txt',\"r\")\n",
        "\n",
        "if file_object.mode == \"r\":\n",
        "  contents = file_object.read()\n",
        "print(contents)"
      ],
      "execution_count": null,
      "outputs": [
        {
          "output_type": "stream",
          "text": [
            "Be Positive.\n",
            "Be Positive.\n",
            "Be Positive.\n",
            "Be Positive.\n",
            "\n",
            "Be Positive.\n",
            "Be Positive.\n",
            "Be Positive.\n",
            "Be Positive.\n",
            "Naahida\n",
            "Naahida\n",
            "\n",
            "Be Positive.\n",
            "Be Positive.\n",
            "Be Positive.\n",
            "Be Positive.\n",
            "Naahida\n",
            "Naahida\n",
            "Naahida\n",
            "Naahida\n",
            "\n"
          ],
          "name": "stdout"
        }
      ]
    },
    {
      "cell_type": "markdown",
      "metadata": {
        "id": "3k5mIhHacdtQ"
      },
      "source": [
        "c. Write a program to illustrate Handling"
      ]
    },
    {
      "cell_type": "code",
      "metadata": {
        "colab": {
          "base_uri": "https://localhost:8080/"
        },
        "id": "_QtrK8G5cdZX",
        "outputId": "9cfb3e2b-c84a-4b66-ed6d-6c7c33799613"
      },
      "source": [
        "#zero divison Error\n",
        "var1 = int (input('Enter a number from (0-9) :'))\n",
        "var2 = int (input('Enter a number from (0-9) :'))\n",
        "print(\"zero divison error\")\n",
        "try :\n",
        "  division = var1/var2\n",
        "  print('The divsion of two variables {} and {} is {}'.format(var1,var2,division))\n",
        "\n",
        "except (ZeroDivisionError):\n",
        "  print('Cant divide the {} and {}'.format(var1,var2))\n",
        "#index error\n",
        "lst = [2,4,6,8,12,32,441,100]\n",
        "print('Total no of elements in the list are : ',len(lst))\n",
        "i = int(input('Enter an index number below {} : '.format(len(lst))))\n",
        "print(\"index error\")\n",
        "try:\n",
        "  lst[i]\n",
        "  print('The value at {} location is {}'.format(i,lst[i]))\n",
        "except IndexError:\n",
        "  print('Element cannot be found !!')"
      ],
      "execution_count": null,
      "outputs": [
        {
          "output_type": "stream",
          "text": [
            "Enter a number from (0-9) :4\n",
            "Enter a number from (0-9) :8\n",
            "zero divison error\n",
            "The divsion of two variables 4 and 8 is 0.5\n",
            "Total no of elements in the list are :  8\n",
            "Enter an index number below 8 : 3\n",
            "index error\n",
            "The value at 3 location is 8\n"
          ],
          "name": "stdout"
        }
      ]
    },
    {
      "cell_type": "markdown",
      "metadata": {
        "id": "7fmuOOK1c8hx"
      },
      "source": [
        "**EXERCISE 5**"
      ]
    },
    {
      "cell_type": "markdown",
      "metadata": {
        "id": "Dfy529r1dBkd"
      },
      "source": [
        "a. Write a program using scikit-learn to implement K-means Clustering"
      ]
    },
    {
      "cell_type": "code",
      "metadata": {
        "id": "1LpBztwXnVVs"
      },
      "source": [
        "import numpy as np\n",
        "import matplotlib.pyplot as plt\n",
        "import pandas as pd\n",
        "from sklearn import datasets"
      ],
      "execution_count": null,
      "outputs": []
    },
    {
      "cell_type": "code",
      "metadata": {
        "colab": {
          "base_uri": "https://localhost:8080/",
          "height": 206
        },
        "id": "Lq0DPs_GnXhU",
        "outputId": "8cb45d64-33fd-487e-b9fd-52600bba45d8"
      },
      "source": [
        "data=pd.read_csv('/content/drive/MyDrive/dataset_colab/Iris.csv')\n",
        "data.head()"
      ],
      "execution_count": null,
      "outputs": [
        {
          "output_type": "execute_result",
          "data": {
            "text/html": [
              "<div>\n",
              "<style scoped>\n",
              "    .dataframe tbody tr th:only-of-type {\n",
              "        vertical-align: middle;\n",
              "    }\n",
              "\n",
              "    .dataframe tbody tr th {\n",
              "        vertical-align: top;\n",
              "    }\n",
              "\n",
              "    .dataframe thead th {\n",
              "        text-align: right;\n",
              "    }\n",
              "</style>\n",
              "<table border=\"1\" class=\"dataframe\">\n",
              "  <thead>\n",
              "    <tr style=\"text-align: right;\">\n",
              "      <th></th>\n",
              "      <th>Id</th>\n",
              "      <th>SepalLengthCm</th>\n",
              "      <th>SepalWidthCm</th>\n",
              "      <th>PetalLengthCm</th>\n",
              "      <th>PetalWidthCm</th>\n",
              "      <th>Species</th>\n",
              "    </tr>\n",
              "  </thead>\n",
              "  <tbody>\n",
              "    <tr>\n",
              "      <th>0</th>\n",
              "      <td>1</td>\n",
              "      <td>5.1</td>\n",
              "      <td>3.5</td>\n",
              "      <td>1.4</td>\n",
              "      <td>0.2</td>\n",
              "      <td>Iris-setosa</td>\n",
              "    </tr>\n",
              "    <tr>\n",
              "      <th>1</th>\n",
              "      <td>2</td>\n",
              "      <td>4.9</td>\n",
              "      <td>3.0</td>\n",
              "      <td>1.4</td>\n",
              "      <td>0.2</td>\n",
              "      <td>Iris-setosa</td>\n",
              "    </tr>\n",
              "    <tr>\n",
              "      <th>2</th>\n",
              "      <td>3</td>\n",
              "      <td>4.7</td>\n",
              "      <td>3.2</td>\n",
              "      <td>1.3</td>\n",
              "      <td>0.2</td>\n",
              "      <td>Iris-setosa</td>\n",
              "    </tr>\n",
              "    <tr>\n",
              "      <th>3</th>\n",
              "      <td>4</td>\n",
              "      <td>4.6</td>\n",
              "      <td>3.1</td>\n",
              "      <td>1.5</td>\n",
              "      <td>0.2</td>\n",
              "      <td>Iris-setosa</td>\n",
              "    </tr>\n",
              "    <tr>\n",
              "      <th>4</th>\n",
              "      <td>5</td>\n",
              "      <td>5.0</td>\n",
              "      <td>3.6</td>\n",
              "      <td>1.4</td>\n",
              "      <td>0.2</td>\n",
              "      <td>Iris-setosa</td>\n",
              "    </tr>\n",
              "  </tbody>\n",
              "</table>\n",
              "</div>"
            ],
            "text/plain": [
              "   Id  SepalLengthCm  SepalWidthCm  PetalLengthCm  PetalWidthCm      Species\n",
              "0   1            5.1           3.5            1.4           0.2  Iris-setosa\n",
              "1   2            4.9           3.0            1.4           0.2  Iris-setosa\n",
              "2   3            4.7           3.2            1.3           0.2  Iris-setosa\n",
              "3   4            4.6           3.1            1.5           0.2  Iris-setosa\n",
              "4   5            5.0           3.6            1.4           0.2  Iris-setosa"
            ]
          },
          "metadata": {
            "tags": []
          },
          "execution_count": 65
        }
      ]
    },
    {
      "cell_type": "code",
      "metadata": {
        "colab": {
          "base_uri": "https://localhost:8080/",
          "height": 295
        },
        "id": "oMW3zq7Vns30",
        "outputId": "2996f8c6-b761-44b5-c65c-3538b9309745"
      },
      "source": [
        "x = data.iloc[:, [0, 1, 2, 3]].values\n",
        "\n",
        "from sklearn.cluster import KMeans\n",
        "wcss = []\n",
        "\n",
        "for i in range(1, 11):\n",
        "    kmeans = KMeans(n_clusters = i, init = 'k-means++', \n",
        "                    max_iter = 300, n_init = 10, random_state = 0)\n",
        "    kmeans.fit(x)\n",
        "    wcss.append(kmeans.inertia_)\n",
        "    \n",
        "# Plotting the results onto a line graph, \n",
        "# `allowing us to observe 'The elbow'\n",
        "plt.plot(range(1, 11), wcss)\n",
        "plt.title('The elbow method')\n",
        "plt.xlabel('Number of clusters')\n",
        "plt.ylabel('WCSS') # Within cluster sum of squares\n",
        "plt.show()"
      ],
      "execution_count": null,
      "outputs": [
        {
          "output_type": "display_data",
          "data": {
            "image/png": "[encoded data removed]",
            "text/plain": [
              "<Figure size 432x288 with 1 Axes>"
            ]
          },
          "metadata": {
            "tags": [],
            "needs_background": "light"
          }
        }
      ]
    },
    {
      "cell_type": "code",
      "metadata": {
        "id": "JbWBBa-4nyoH"
      },
      "source": [
        "kmeans = KMeans(n_clusters = 3, init = 'k-means++',\n",
        "                max_iter = 300, n_init = 10, random_state = 0)\n",
        "y_kmeans = kmeans.fit_predict(x)"
      ],
      "execution_count": null,
      "outputs": []
    },
    {
      "cell_type": "code",
      "metadata": {
        "id": "9GhiP7rHn3rX",
        "colab": {
          "base_uri": "https://localhost:8080/",
          "height": 281
        },
        "outputId": "35c3e4e7-3da0-43c4-ca68-78fc60034cc0"
      },
      "source": [
        "# Visualising the clusters - On the first two columns\n",
        "plt.scatter(x[y_kmeans == 0, 0], x[y_kmeans == 0, 1], \n",
        "            s = 100, c = 'brown', label = 'Iris-setosa')\n",
        "plt.scatter(x[y_kmeans == 1, 0], x[y_kmeans == 1, 1], \n",
        "            s = 100, c = 'blue', label = 'Iris-versicolour')\n",
        "plt.scatter(x[y_kmeans == 2, 0], x[y_kmeans == 2, 1],\n",
        "            s = 100, c = 'black', label = 'Iris-virginica')\n",
        "\n",
        "# Plotting the centroids of the clusters\n",
        "plt.scatter(kmeans.cluster_centers_[:, 0], kmeans.cluster_centers_[:,1], \n",
        "            s = 100, c = 'yellow', label = 'Centroids')\n",
        "\n",
        "plt.legend()\n",
        "plt.title(\"Number of Clusters\")\n",
        "plt.show()"
      ],
      "execution_count": null,
      "outputs": [
        {
          "output_type": "display_data",
          "data": {
            "image/png": "[encoded data removed]",
            "text/plain": [
              "<Figure size 432x288 with 1 Axes>"
            ]
          },
          "metadata": {
            "tags": [],
            "needs_background": "light"
          }
        }
      ]
    },
    {
      "cell_type": "code",
      "metadata": {
        "colab": {
          "base_uri": "https://localhost:8080/",
          "height": 335
        },
        "id": "yAVraNlec7iV",
        "outputId": "d644a8c9-06c0-4eee-ff13-d3794e0a737c"
      },
      "source": [
        "import matplotlib.pyplot as plt\n",
        "%matplotlib inline\n",
        "import numpy as np\n",
        "from sklearn.cluster import KMeans\n",
        "X = np.array([[5,3],\n",
        "     [10,15],\n",
        "     [15,12],\n",
        "     [24,10],\n",
        "     [30,45],\n",
        "     [85,70],\n",
        "     [71,80],\n",
        "     [60,78],\n",
        "     [55,52],\n",
        "     [80,91],])\n",
        "plt.scatter(X[:,0],X[:,1], label='True Position')\n",
        "kmeans = KMeans(n_clusters=2)\n",
        "kmeans.fit(X)\n",
        "print(kmeans.cluster_centers_)\n",
        "print(kmeans.labels_)\n",
        "plt.scatter(X[:,0],X[:,1], c=kmeans.labels_, cmap='rainbow')\n",
        "plt.scatter(X[:,0], X[:,1], c=kmeans.labels_, cmap='rainbow')\n",
        "plt.scatter(kmeans.cluster_centers_[:,0] ,kmeans.cluster_centers_[:,1], color='black')"
      ],
      "execution_count": null,
      "outputs": [
        {
          "output_type": "stream",
          "text": [
            "[[70.2 74.2]\n",
            " [16.8 17. ]]\n",
            "[1 1 1 1 1 0 0 0 0 0]\n"
          ],
          "name": "stdout"
        },
        {
          "output_type": "execute_result",
          "data": {
            "text/plain": [
              "<matplotlib.collections.PathCollection at 0x7f7bd6eccc50>"
            ]
          },
          "metadata": {
            "tags": []
          },
          "execution_count": 46
        },
        {
          "output_type": "display_data",
          "data": {
            "image/png": "[encoded data removed]",
            "text/plain": [
              "<Figure size 432x288 with 1 Axes>"
            ]
          },
          "metadata": {
            "tags": [],
            "needs_background": "light"
          }
        }
      ]
    },
    {
      "cell_type": "markdown",
      "metadata": {
        "id": "BlnQ4oRlee2K"
      },
      "source": [
        "b. Program to calculate the entropy and the information gain"
      ]
    },
    {
      "cell_type": "code",
      "metadata": {
        "id": "6r_zjChcQOnd",
        "colab": {
          "base_uri": "https://localhost:8080/"
        },
        "outputId": "75973142-317e-4001-ddb8-af5522b59339"
      },
      "source": [
        "from __future__ import division\n",
        "from math import log\n",
        "\n",
        "\n",
        "def entropy(pi):\n",
        "   \n",
        "\n",
        "    total = 0\n",
        "    for p in pi:\n",
        "        p = p / sum(pi)\n",
        "        if p != 0:\n",
        "            total += p * log(p, 2)\n",
        "        else:\n",
        "            total += 0\n",
        "    total *= -1\n",
        "    return total\n",
        "\n",
        "\n",
        "def gain(d, a):\n",
        "    '''\n",
        "    return the information gain:\n",
        "    gain(D, A) = entropy(D)−􏰋 SUM ( |Di| / |D| * entropy(Di) )\n",
        "    '''\n",
        "\n",
        "    total = 0\n",
        "    for v in a:\n",
        "        total += sum(v) / sum(d) * entropy(v)\n",
        "\n",
        "    gain = entropy(d) - total\n",
        "    return gain\n",
        "\n",
        "\n",
        "# TEST\n",
        "\n",
        "###__ example 1 (AIMA book, fig18.3)\n",
        "\n",
        "# set of example of the dataset\n",
        "willWait = [6, 6] # Yes, No\n",
        "\n",
        "# attribute, number of members (feature)\n",
        "patron = [ [4,0], [2,4], [0,2] ] # Some, Full, None\n",
        "\n",
        "print(gain(willWait, patron))\n",
        "\n",
        "\n",
        "###__ example 2 (playTennis homework)\n",
        "\n",
        "# set of example of the dataset\n",
        "playTennis = [9, 5] # Yes, No\n",
        "\n",
        "# attribute, number of members (feature)\n",
        "outlook = [\n",
        "    [4, 0],  # overcase\n",
        "    [2, 3],  # sunny\n",
        "    [3, 2]   # rain\n",
        "]\n",
        "temperature = [\n",
        "    [2, 2],  # hot\n",
        "    [3, 1],  # cool\n",
        "    [4, 2]   # mild\n",
        "]\n",
        "humidity = [\n",
        "    [3, 4],  # high\n",
        "    [6, 1]   # normal\n",
        "]\n",
        "wind = [\n",
        "    [6, 2],  # weak\n",
        "    [3, 3]   # strong\n",
        "]\n",
        "\n",
        "print(gain(playTennis, outlook))\n",
        "print(gain(playTennis, temperature))\n",
        "print(gain(playTennis, humidity))\n",
        "print(gain(playTennis, wind))"
      ],
      "execution_count": null,
      "outputs": [
        {
          "output_type": "stream",
          "text": [
            "0.5408520829727552\n",
            "0.2467498197744391\n",
            "0.029222565658954647\n",
            "0.15183550136234136\n",
            "0.04812703040826927\n"
          ],
          "name": "stdout"
        }
      ]
    },
    {
      "cell_type": "markdown",
      "metadata": {
        "id": "HHZ_85JVerKs"
      },
      "source": [
        "c. Program to implement perceptron"
      ]
    },
    {
      "cell_type": "code",
      "metadata": {
        "colab": {
          "base_uri": "https://localhost:8080/",
          "height": 279
        },
        "id": "evQYDzhZezLt",
        "outputId": "85a60db9-9146-478c-f0ec-5d2b05c263f2"
      },
      "source": [
        "#import packages\n",
        "import sklearn.datasets\n",
        "import numpy as np\n",
        "import pandas as pd\n",
        "import matplotlib.pyplot as plt\n",
        "from sklearn.model_selection import train_test_split\n",
        "\n",
        "#load the breast cancer data\n",
        "breast_cancer = sklearn.datasets.load_breast_cancer()\n",
        "\n",
        "#convert the data to pandas dataframe.\n",
        "data = pd.DataFrame(breast_cancer.data, columns = breast_cancer.feature_names)\n",
        "data[\"class\"] = breast_cancer.target\n",
        "data.head()\n",
        "data.describe()\n",
        "\n",
        "#plotting a graph to see class imbalance\n",
        "data['class'].value_counts().plot(kind = \"barh\")\n",
        "plt.xlabel(\"Count\")\n",
        "plt.ylabel(\"Classes\")\n",
        "plt.show()\n",
        "\n",
        "from sklearn.preprocessing import MinMaxScaler\n",
        "#perform scaling on the data.\n",
        "X = data.drop(\"class\", axis = 1)\n",
        "Y = data[\"class\"]\n",
        "mnscaler = MinMaxScaler()\n",
        "X = mnscaler.fit_transform(X)\n",
        "X = pd.DataFrame(X, columns=data.drop(\"class\",axis = 1).columns)\n",
        "\n",
        "#train test split.\n",
        "X_train, X_test, Y_train, Y_test = train_test_split(X,Y, test_size = 0.1, stratify = Y, random_state = 1)\n",
        "class Perceptron:\n",
        "  \n",
        "  #constructor\n",
        "  def __init__ (self):\n",
        "    self.w = None\n",
        "    self.b = None\n",
        "    \n",
        "  #model  \n",
        "  def model(self, x):\n",
        "    return 1 if (np.dot(self.w, x) >= self.b) else 0\n",
        "  \n",
        "  #predictor to predict on the data based on w\n",
        "  def predict(self, X):\n",
        "    Y = []\n",
        "    for x in X:\n",
        "      result = self.model(x)\n",
        "      Y.append(result)\n",
        "    return np.array(Y)\n",
        "    \n",
        "  def fit(self, X, Y, epochs = 1, lr = 1):\n",
        "    self.w = np.ones(X.shape[1])\n",
        "    self.b = 0\n",
        "    accuracy = {}\n",
        "    max_accuracy = 0\n",
        "    wt_matrix = []\n",
        "    #for all epochs\n",
        "    for i in range(epochs):\n",
        "      for x, y in zip(X, Y):\n",
        "        y_pred = self.model(x)\n",
        "        if y == 1 and y_pred == 0:\n",
        "          self.w = self.w + lr * x\n",
        "          self.b = self.b - lr * 1\n",
        "        elif y == 0 and y_pred == 1:\n",
        "          self.w = self.w - lr * x\n",
        "          self.b = self.b + lr * 1\n",
        "          \n",
        "      wt_matrix.append(self.w)    \n",
        "      accuracy[i] = accuracy_score(self.predict(X), Y)\n",
        "      if (accuracy[i] > max_accuracy):\n",
        "        max_accuracy = accuracy[i]\n",
        "        chkptw = self.w\n",
        "        chkptb = self.b\n",
        "    #checkpoint (Save the weights and b value)\n",
        "    self.w = chkptw\n",
        "    self.b = chkptb\n",
        "        \n",
        "    print(max_accuracy)\n",
        "    #plot the accuracy values over epochs\n",
        "    plt.plot(accuracy.values())\n",
        "    plt.xlabel(\"Epoch #\")\n",
        "    plt.ylabel(\"Accuracy\")\n",
        "    plt.ylim([0, 1])\n",
        "    plt.show()\n",
        "    \n",
        "    #return the weight matrix, that contains weights over all epochs\n",
        "    return np.array(wt_matrix)\n",
        "    perceptron = Perceptron()"
      ],
      "execution_count": null,
      "outputs": [
        {
          "output_type": "display_data",
          "data": {
            "image/png": "[encoded data removed]",
            "text/plain": [
              "<Figure size 432x288 with 1 Axes>"
            ]
          },
          "metadata": {
            "tags": [],
            "needs_background": "light"
          }
        }
      ]
    },
    {
      "cell_type": "markdown",
      "metadata": {
        "id": "UFopk670e76Q"
      },
      "source": [
        "**EXERCISE 6**"
      ]
    },
    {
      "cell_type": "markdown",
      "metadata": {
        "id": "IVZOBW72fA0s"
      },
      "source": [
        "a.Generate a decision tree. Find the Depth of decision trees and observe the results, then propose some changes in DecisionTreeClassifier function to limit."
      ]
    },
    {
      "cell_type": "code",
      "metadata": {
        "colab": {
          "base_uri": "https://localhost:8080/"
        },
        "id": "v4UDHq8se7j_",
        "outputId": "ababe1fc-1d94-4e11-d358-2b4e9180183e"
      },
      "source": [
        "class Node:\n",
        " \n",
        "   \n",
        "    def __init__(self, data):\n",
        "        self.data = data\n",
        "        self.left = None\n",
        "        self.right = None\n",
        " \n",
        "\n",
        "def maxDepth(node):\n",
        "    if node is None:\n",
        "        return 0 ;\n",
        " \n",
        "    else :\n",
        "        lDepth = maxDepth(node.left)\n",
        "        rDepth = maxDepth(node.right)\n",
        " \n",
        "        \n",
        "        if (lDepth > rDepth):\n",
        "            return lDepth+1\n",
        "        else:\n",
        "            return rDepth+1\n",
        " \n",
        " \n",
        "\n",
        "root = Node(20)\n",
        "root.left = Node(30)\n",
        "root.right = Node(48)\n",
        "root.left.left = Node(15)\n",
        "root.left.right = Node(50)\n",
        " \n",
        " \n",
        "print (\"Height of tree is %d\" %(maxDepth(root)))"
      ],
      "execution_count": null,
      "outputs": [
        {
          "output_type": "stream",
          "text": [
            "Height of tree is 3\n"
          ],
          "name": "stdout"
        }
      ]
    },
    {
      "cell_type": "markdown",
      "metadata": {
        "id": "_NoAKGu1fQNP"
      },
      "source": [
        " **EXERCISE 7**"
      ]
    },
    {
      "cell_type": "markdown",
      "metadata": {
        "id": "SozI9hODfcyR"
      },
      "source": [
        "a.Calculating with matrices using numpy : inv, pinv, matrix_rank, solve, lstsq, svd, transpose, eig, sort, linspace, meshgrid, mgrid, ogrid, concatenate, tile, squeeze, integrate"
      ]
    },
    {
      "cell_type": "code",
      "metadata": {
        "id": "5I407qbefmuX"
      },
      "source": [
        "import numpy as np\n",
        "import pandas as pd\n",
        "from sklearn.tree import DecisionTreeClassifier\n",
        "from sklearn.model_selection import train_test_split\n",
        "from sklearn.datasets import load_iris"
      ],
      "execution_count": null,
      "outputs": []
    },
    {
      "cell_type": "code",
      "metadata": {
        "colab": {
          "base_uri": "https://localhost:8080/"
        },
        "id": "vp7U4rfmfozP",
        "outputId": "1b20b4d9-6d8b-4805-f36c-50a3eac12e83"
      },
      "source": [
        "iris_data = load_iris() \n",
        "iris=pd.DataFrame(iris_data.data)\n",
        "\n",
        "#priting features name of iris data \n",
        "print (\"Features Name : \", iris_data.feature_names) \n",
        "\n",
        "#shape of datasets \n",
        "print (\"Dataset Shape: \", iris.shape) \n",
        "\n",
        "#first five sample \n",
        "print (\"Dataset: \",iris.head()) "
      ],
      "execution_count": null,
      "outputs": [
        {
          "output_type": "stream",
          "text": [
            "Features Name :  ['sepal length (cm)', 'sepal width (cm)', 'petal length (cm)', 'petal width (cm)']\n",
            "Dataset Shape:  (150, 4)\n",
            "Dataset:       0    1    2    3\n",
            "0  5.1  3.5  1.4  0.2\n",
            "1  4.9  3.0  1.4  0.2\n",
            "2  4.7  3.2  1.3  0.2\n",
            "3  4.6  3.1  1.5  0.2\n",
            "4  5.0  3.6  1.4  0.2\n"
          ],
          "name": "stdout"
        }
      ]
    },
    {
      "cell_type": "code",
      "metadata": {
        "id": "Il5hymPnf1eJ"
      },
      "source": [
        "X = iris.values[:, 0:5] \n",
        "Y = iris_data.target\n",
        "X_train, X_test, y_train, y_test = train_test_split(X, Y, test_size = 0.3, random_state = 100)"
      ],
      "execution_count": null,
      "outputs": []
    },
    {
      "cell_type": "code",
      "metadata": {
        "colab": {
          "base_uri": "https://localhost:8080/"
        },
        "id": "pcloSKROf7UN",
        "outputId": "21039444-bdb2-4244-c7d7-cc953e6b80ef"
      },
      "source": [
        "classifier = DecisionTreeClassifier(max_depth=9,random_state= 41)\n",
        "classifier.fit(X_train,y_train)\n",
        "print('Depth',classifier.get_depth())\n",
        "print('Train',classifier.score(X_train,y_train))\n",
        "print('Test',classifier.score(X_test,y_test))"
      ],
      "execution_count": null,
      "outputs": [
        {
          "output_type": "stream",
          "text": [
            "Depth 4\n",
            "Train 1.0\n",
            "Test 0.9555555555555556\n"
          ],
          "name": "stdout"
        }
      ]
    },
    {
      "cell_type": "markdown",
      "metadata": {
        "id": "foktH0BkgCiO"
      },
      "source": [
        "**Exercise 8**"
      ]
    },
    {
      "cell_type": "markdown",
      "metadata": {
        "id": "msBOiNl3gIbM"
      },
      "source": [
        "a.Program using panda"
      ]
    },
    {
      "cell_type": "code",
      "metadata": {
        "colab": {
          "base_uri": "https://localhost:8080/"
        },
        "id": "GsyE0YhUgUho",
        "outputId": "9b102080-9a12-42a3-ce75-1e36db720260"
      },
      "source": [
        "dict = {\"country\": [\"America\", \"Saudi Arabia\", \"India\", \"Pakistan\", \"England\"],\n",
        "       \"capital\": [\"Washington D.C\", \"Riyadh\", \"New Dehli\", \"Islamabad\", \"London\"],\n",
        "       \"area\": [8.516, 17.10, 3.286, 9.597, 1.221],\n",
        "       \"population\": [200.4, 143.5, 1252, 1357, 52.98] }\n",
        "\n",
        "import pandas as pd\n",
        "brics = pd.DataFrame(dict)\n",
        "print(brics)"
      ],
      "execution_count": null,
      "outputs": [
        {
          "output_type": "stream",
          "text": [
            "        country         capital    area  population\n",
            "0       America  Washington D.C   8.516      200.40\n",
            "1  Saudi Arabia          Riyadh  17.100      143.50\n",
            "2         India       New Dehli   3.286     1252.00\n",
            "3      Pakistan       Islamabad   9.597     1357.00\n",
            "4       England          London   1.221       52.98\n"
          ],
          "name": "stdout"
        }
      ]
    },
    {
      "cell_type": "markdown",
      "metadata": {
        "id": "SSGVrGVch3y7"
      },
      "source": [
        "b. Program using matplotlib"
      ]
    },
    {
      "cell_type": "code",
      "metadata": {
        "colab": {
          "base_uri": "https://localhost:8080/",
          "height": 264
        },
        "id": "G1nu7ho8hcBo",
        "outputId": "05b06aa9-d549-4c91-ccaf-36bcef2efcce"
      },
      "source": [
        "import matplotlib.pyplot as plt\n",
        " \n",
        "days = [1,2,3,4,5]\n",
        " \n",
        "sleeping =[7,8,6,11,7]\n",
        "eating = [2,3,4,3,2]\n",
        "working =[7,8,7,2,2]\n",
        "playing = [8,5,7,8,13]\n",
        "slices = [7,2,2,13]\n",
        "activities = ['sleeping','painting','working','exercise']\n",
        "cols = ['c','m','r','b']\n",
        " \n",
        "plt.pie(slices,\n",
        "  labels=activities,\n",
        "  colors=cols,\n",
        "  startangle=90,\n",
        "  shadow= True,\n",
        "  explode=(0,0.1,0,0),\n",
        "  autopct='%1.1f%%')\n",
        " \n",
        "plt.title('Pie chart')\n",
        "plt.show()"
      ],
      "execution_count": null,
      "outputs": [
        {
          "output_type": "display_data",
          "data": {
            "image/png": "[encoded data removed]",
            "text/plain": [
              "<Figure size 432x288 with 1 Axes>"
            ]
          },
          "metadata": {
            "tags": []
          }
        }
      ]
    },
    {
      "cell_type": "markdown",
      "metadata": {
        "id": "Xw1XzYHiiInG"
      },
      "source": [
        "**EXERCISE 9**"
      ]
    },
    {
      "cell_type": "markdown",
      "metadata": {
        "id": "9Ui1VIlZiOMW"
      },
      "source": [
        "a. Graph using Matplotlib"
      ]
    },
    {
      "cell_type": "code",
      "metadata": {
        "colab": {
          "base_uri": "https://localhost:8080/",
          "height": 295
        },
        "id": "sIdHDdFAiIRw",
        "outputId": "b24f8041-f93c-4a8b-91bb-069ef2954918"
      },
      "source": [
        "import matplotlib.pyplot as plt\n",
        "x = [1,4,8]\n",
        "y = [3,9,6]\n",
        "plt.plot(x, y)\n",
        "plt.xlabel('x - axis')\n",
        "plt.ylabel('y - axis')\n",
        "plt.title('graph')\n",
        "plt.show()"
      ],
      "execution_count": null,
      "outputs": [
        {
          "output_type": "display_data",
          "data": {
            "image/png": "[encoded data removed]",
            "text/plain": [
              "<Figure size 432x288 with 1 Axes>"
            ]
          },
          "metadata": {
            "tags": [],
            "needs_background": "light"
          }
        }
      ]
    },
    {
      "cell_type": "markdown",
      "metadata": {
        "id": "z6zGzE4yizY3"
      },
      "source": [
        "**EXERCISE 10**"
      ]
    },
    {
      "cell_type": "markdown",
      "metadata": {
        "id": "gAc3Rs6vjOs0"
      },
      "source": [
        "Vector using Matplotlib"
      ]
    },
    {
      "cell_type": "code",
      "metadata": {
        "colab": {
          "base_uri": "https://localhost:8080/",
          "height": 1000
        },
        "id": "tuX4XdYsjIPi",
        "outputId": "77306273-a4b3-4a7f-afbf-46e4b064e010"
      },
      "source": [
        "import numpy as np\n",
        "import matplotlib.pyplot as plt\n",
        "M = np.array([[1,1],[-2,2],[4,-7]])\n",
        "\n",
        "print(\"vector:1\")\n",
        "print(M[0,:])\n",
        "rows,cols = M.T.shape\n",
        "print(cols)\n",
        "\n",
        "for i,l in enumerate(range(0,cols)):\n",
        "    print(\"Iteration: {}-{}\".format(i,l))\n",
        "    print(\"vector:{}\".format(i))\n",
        "    print(M[i,:])\n",
        "    v1 = [0,0],[M[i,0],M[i,1]]\n",
        "    print(v1)\n",
        "    plt.figure(i)\n",
        "    plt.plot(v1)\n",
        "    plt.show()"
      ],
      "execution_count": null,
      "outputs": [
        {
          "output_type": "stream",
          "text": [
            "vector:1\n",
            "[1 1]\n",
            "3\n",
            "Iteration: 0-0\n",
            "vector:0\n",
            "[1 1]\n",
            "([0, 0], [1, 1])\n"
          ],
          "name": "stdout"
        },
        {
          "output_type": "display_data",
          "data": {
            "image/png": "[encoded data removed]",
            "text/plain": [
              "<Figure size 432x288 with 1 Axes>"
            ]
          },
          "metadata": {
            "tags": [],
            "needs_background": "light"
          }
        },
        {
          "output_type": "stream",
          "text": [
            "Iteration: 1-1\n",
            "vector:1\n",
            "[-2  2]\n",
            "([0, 0], [-2, 2])\n"
          ],
          "name": "stdout"
        },
        {
          "output_type": "display_data",
          "data": {
            "image/png": "[encoded data removed]",
            "text/plain": [
              "<Figure size 432x288 with 1 Axes>"
            ]
          },
          "metadata": {
            "tags": [],
            "needs_background": "light"
          }
        },
        {
          "output_type": "stream",
          "text": [
            "Iteration: 2-2\n",
            "vector:2\n",
            "[ 4 -7]\n",
            "([0, 0], [4, -7])\n"
          ],
          "name": "stdout"
        },
        {
          "output_type": "display_data",
          "data": {
            "image/png": "[encoded data removed]",
            "text/plain": [
              "<Figure size 432x288 with 1 Axes>"
            ]
          },
          "metadata": {
            "tags": [],
            "needs_background": "light"
          }
        }
      ]
    },
    {
      "cell_type": "code",
      "metadata": {
        "id": "3EL-t4H7mQik"
      },
      "source": [
        ""
      ],
      "execution_count": null,
      "outputs": []
    }
  ]
}